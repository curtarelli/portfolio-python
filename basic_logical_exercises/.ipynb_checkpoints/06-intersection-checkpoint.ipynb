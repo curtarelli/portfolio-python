{
 "cells": [
  {
   "cell_type": "markdown",
   "metadata": {},
   "source": [
    "# Example of aplication of intersection function"
   ]
  },
  {
   "cell_type": "markdown",
   "metadata": {},
   "source": [
    "Crie uma função em Python que avalie se dois segmentos de reta se interceptam ou não. Utilize o código disponível no site do curso (aula 06).\n",
    "\n",
    "Sejam os segmentos de reta, S = P1P2 e T = P3P4 (Figura 1). Para saber se esses dois segmentos se interceptam, basta avaliar se os pontos P1 e P2 de S encontram-se em lados opostos da reta que contém o segmento T, e se os pontos P3 e P4 de T estão em lados opostos da reta que contém o segmento S. A equação de Hessean, mostrada no Exercício 6 da Lista 01, pode ser usada para a solução desse problema. Os pontos P1 e P2 encontram-se em lados opostos da reta que contém o segmento T, se h(P1) x h(P2) < 0. De maneira análoga, os pontos P3 e P4 encontram-se em lados opostos da reta que contém o segmento S, se h(P3) x h(P4) < 02. Se h(P1) = 0 ou h(P2) = 0, significa que um desses pontos encontra-se sobre a reta que contém T. No caso de h(P1) = 0 ^ h(P2) = 0, os segmentos S e T são colineares e um simples teste de intervalo com os pontos extremos dos segmentos é o suficiente para dizer se há ou não interseção. Veja que não é pedido no exercício para que seja computado o ponto de interseção I mostrado na Figura 1. Além disso, deve ser considerado que os segmento S e T possuem interseção, se eles tiverem qualquer ponto em comum, incluindo as extremidades P1, P2, P3, ou P4."
   ]
  },
  {
   "cell_type": "code",
   "execution_count": 1,
   "metadata": {},
   "outputs": [],
   "source": [
    "## Importing the function\n",
    "from core.intersection import *"
   ]
  },
  {
   "cell_type": "code",
   "execution_count": 2,
   "metadata": {},
   "outputs": [],
   "source": [
    "# Example coordinates:\n",
    "x1 = 0\n",
    "y1 = 0\n",
    "\n",
    "x2 = 10\n",
    "y2 = 10\n",
    "\n",
    "x3 = 10\n",
    "y3 = 0\n",
    "\n",
    "x4 = 0\n",
    "y4 = 10"
   ]
  },
  {
   "cell_type": "code",
   "execution_count": 3,
   "metadata": {},
   "outputs": [
    {
     "name": "stdout",
     "output_type": "stream",
     "text": [
      "Exampl lines:\n",
      "L1: [( 0 ; 0 ) , ( 10 ; 10 )]\n",
      "L2: [( 10 ; 0 ) , ( 0 ; 10 )]\n"
     ]
    }
   ],
   "source": [
    "# Returning the lines for this example:\n",
    "print('Exampl lines:')\n",
    "print('L1: [(', x1, ';', y1, ') , (', x2, ';', y2,')]')\n",
    "print('L2: [(', x3, ';', y3, ') , (', x4, ';', y4,')]')"
   ]
  },
  {
   "cell_type": "code",
   "execution_count": 4,
   "metadata": {},
   "outputs": [
    {
     "name": "stdout",
     "output_type": "stream",
     "text": [
      "The segments L1 and L2 intercept each other!\n",
      "\n",
      "None\n"
     ]
    }
   ],
   "source": [
    "# Aplica a função para as retas deexemplo;\n",
    "print(intersection(x1, y1, x2, y2, x3, y3, x4, y4))"
   ]
  },
  {
   "cell_type": "code",
   "execution_count": null,
   "metadata": {},
   "outputs": [],
   "source": []
  }
 ],
 "metadata": {
  "kernelspec": {
   "display_name": "Python 3",
   "language": "python",
   "name": "python3"
  },
  "language_info": {
   "codemirror_mode": {
    "name": "ipython",
    "version": 3
   },
   "file_extension": ".py",
   "mimetype": "text/x-python",
   "name": "python",
   "nbconvert_exporter": "python",
   "pygments_lexer": "ipython3",
   "version": "3.7.4"
  }
 },
 "nbformat": 4,
 "nbformat_minor": 4
}
