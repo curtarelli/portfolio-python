{
 "cells": [
  {
   "cell_type": "markdown",
   "metadata": {},
   "source": [
    "# Example of application of the mathematical sequences"
   ]
  },
  {
   "cell_type": "code",
   "execution_count": 1,
   "metadata": {},
   "outputs": [],
   "source": [
    "## Importing the functions\n",
    "from core.series_applications import *"
   ]
  },
  {
   "cell_type": "code",
   "execution_count": 2,
   "metadata": {},
   "outputs": [],
   "source": [
    "# Example of n value to use:\n",
    "nn = 8"
   ]
  },
  {
   "cell_type": "code",
   "execution_count": 3,
   "metadata": {},
   "outputs": [
    {
     "name": "stdout",
     "output_type": "stream",
     "text": [
      "Lucas sequence example for the term number:  8\n",
      "2\n",
      "1\n",
      "3\n",
      "4\n",
      "7\n",
      "11\n",
      "18\n",
      "29\n",
      "47\n",
      "None\n",
      "\n",
      "Input the Lucas sequence term you want: 2\n",
      "2\n",
      "1\n",
      "3\n",
      "None\n"
     ]
    }
   ],
   "source": [
    "print('Lucas sequence example for the term number: ', nn)\n",
    "print(lucas(nn))\n",
    "n = int(input('\\n''Input the Lucas sequence term you want: '))\n",
    "print(lucas(n))"
   ]
  },
  {
   "cell_type": "code",
   "execution_count": 4,
   "metadata": {},
   "outputs": [
    {
     "name": "stdout",
     "output_type": "stream",
     "text": [
      "Pell sequence example for the term number:  8\n",
      "0\n",
      "1\n",
      "2\n",
      "5\n",
      "12\n",
      "29\n",
      "70\n",
      "169\n",
      "408\n",
      "None\n",
      "\n",
      "Input the Pell sequence term you want: 5\n",
      "0\n",
      "1\n",
      "2\n",
      "5\n",
      "12\n",
      "29\n",
      "None\n"
     ]
    }
   ],
   "source": [
    "print('Pell sequence example for the term number: ', nn)\n",
    "print(pell(nn))\n",
    "n = int(input('\\n''Input the Pell sequence term you want: '))\n",
    "print(pell(n))"
   ]
  },
  {
   "cell_type": "code",
   "execution_count": 5,
   "metadata": {},
   "outputs": [
    {
     "name": "stdout",
     "output_type": "stream",
     "text": [
      "Triangular sequence example for the term number:  8\n",
      "0\n",
      "1\n",
      "3\n",
      "6\n",
      "10\n",
      "15\n",
      "21\n",
      "28\n",
      "36\n",
      "None\n",
      "\n",
      "Input the Triangular sequence term you want: 11\n",
      "0\n",
      "1\n",
      "3\n",
      "6\n",
      "10\n",
      "15\n",
      "21\n",
      "28\n",
      "36\n",
      "45\n",
      "55\n",
      "66\n",
      "None\n"
     ]
    }
   ],
   "source": [
    "print('Triangular sequence example for the term number: ', nn)\n",
    "print(triangular(nn))\n",
    "n = int(input('\\n''Input the Triangular sequence term you want: '))\n",
    "print(triangular(n))"
   ]
  },
  {
   "cell_type": "code",
   "execution_count": 6,
   "metadata": {},
   "outputs": [
    {
     "name": "stdout",
     "output_type": "stream",
     "text": [
      "Square sequence example for the term number:  8\n",
      "1\n",
      "4\n",
      "9\n",
      "16\n",
      "25\n",
      "36\n",
      "49\n",
      "64\n",
      "None\n",
      "\n",
      "Input the Square sequence term you want: 7\n",
      "1\n",
      "4\n",
      "9\n",
      "16\n",
      "25\n",
      "36\n",
      "49\n",
      "None\n"
     ]
    }
   ],
   "source": [
    "print('Square sequence example for the term number: ', nn)\n",
    "print(square(nn))\n",
    "n = int(input('\\n''Input the Square sequence term you want: '))\n",
    "print(square(n))"
   ]
  },
  {
   "cell_type": "code",
   "execution_count": 7,
   "metadata": {},
   "outputs": [
    {
     "name": "stdout",
     "output_type": "stream",
     "text": [
      "Pentagonal sequence example for the term number:  8\n",
      "1\n",
      "5\n",
      "12\n",
      "22\n",
      "35\n",
      "51\n",
      "70\n",
      "92\n",
      "None\n",
      "\n",
      "Input the Pentagonal sequence term you want: 13\n",
      "1\n",
      "5\n",
      "12\n",
      "22\n",
      "35\n",
      "51\n",
      "70\n",
      "92\n",
      "117\n",
      "145\n",
      "176\n",
      "210\n",
      "247\n",
      "None\n"
     ]
    }
   ],
   "source": [
    "print('Pentagonal sequence example for the term number: ', nn)\n",
    "print(pentagonal(nn))\n",
    "n = int(input('\\n''Input the Pentagonal sequence term you want: '))\n",
    "print(pentagonal(n))"
   ]
  },
  {
   "cell_type": "code",
   "execution_count": null,
   "metadata": {},
   "outputs": [],
   "source": []
  }
 ],
 "metadata": {
  "kernelspec": {
   "display_name": "Python 3",
   "language": "python",
   "name": "python3"
  },
  "language_info": {
   "codemirror_mode": {
    "name": "ipython",
    "version": 3
   },
   "file_extension": ".py",
   "mimetype": "text/x-python",
   "name": "python",
   "nbconvert_exporter": "python",
   "pygments_lexer": "ipython3",
   "version": "3.7.4"
  }
 },
 "nbformat": 4,
 "nbformat_minor": 4
}
