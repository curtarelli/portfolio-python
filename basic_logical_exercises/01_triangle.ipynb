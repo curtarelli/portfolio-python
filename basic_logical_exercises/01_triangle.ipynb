{
 "cells": [
  {
   "cell_type": "markdown",
   "metadata": {},
   "source": [
    "# Example of application of the Triangle Match Test"
   ]
  },
  {
   "cell_type": "code",
   "execution_count": 8,
   "metadata": {},
   "outputs": [],
   "source": [
    "## Importing the function\n",
    "from core.triangle import triangle"
   ]
  },
  {
   "cell_type": "code",
   "execution_count": 9,
   "metadata": {},
   "outputs": [
    {
     "name": "stdout",
     "output_type": "stream",
     "text": [
      "\n",
      "First side: 4\n",
      "\n",
      "Second side: 9\n",
      "\n",
      "Third side: 1\n",
      "\n",
      "These measures does not match a triangle form\n",
      "\n",
      "First side: 3\n",
      "\n",
      "Second side: 4\n",
      "\n",
      "Third side: 5\n",
      "\n",
      "Rectangle triangle\n"
     ]
    }
   ],
   "source": [
    "## Apliyng the function\n",
    "triangle()"
   ]
  },
  {
   "cell_type": "code",
   "execution_count": null,
   "metadata": {},
   "outputs": [],
   "source": []
  }
 ],
 "metadata": {
  "kernelspec": {
   "display_name": "Python 3",
   "language": "python",
   "name": "python3"
  },
  "language_info": {
   "codemirror_mode": {
    "name": "ipython",
    "version": 3
   },
   "file_extension": ".py",
   "mimetype": "text/x-python",
   "name": "python",
   "nbconvert_exporter": "python",
   "pygments_lexer": "ipython3",
   "version": "3.7.4"
  }
 },
 "nbformat": 4,
 "nbformat_minor": 4
}
