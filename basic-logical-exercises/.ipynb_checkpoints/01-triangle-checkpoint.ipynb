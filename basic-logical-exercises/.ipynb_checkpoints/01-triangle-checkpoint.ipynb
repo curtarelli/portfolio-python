{
 "cells": [
  {
   "cell_type": "code",
   "execution_count": null,
   "metadata": {},
   "outputs": [],
   "source": []
  }
 ],
 "metadata": {
  "kernelspec": {
   "display_name": "Python 3.7 (Master)",
   "language": "python",
   "name": "master_py37"
  }
 },
 "nbformat": 4,
 "nbformat_minor": 4
}
