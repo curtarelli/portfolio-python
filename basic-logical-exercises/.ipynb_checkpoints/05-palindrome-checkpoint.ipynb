{
 "cells": [
  {
   "cell_type": "markdown",
   "metadata": {},
   "source": [
    "# Example of application of palindrome functions"
   ]
  },
  {
   "cell_type": "code",
   "execution_count": 1,
   "metadata": {},
   "outputs": [],
   "source": [
    "## Importing the functions\n",
    "from core.palindrome import *"
   ]
  },
  {
   "cell_type": "code",
   "execution_count": 2,
   "metadata": {},
   "outputs": [
    {
     "name": "stdout",
     "output_type": "stream",
     "text": [
      "Example for: Asa\n",
      "The word Asa is a palindrome\n"
     ]
    }
   ],
   "source": [
    "# Exameple:\n",
    "a = 'Asa'\n",
    "print('Example for: ' + a)\n",
    "palindrome(a)"
   ]
  },
  {
   "cell_type": "code",
   "execution_count": 3,
   "metadata": {},
   "outputs": [
    {
     "name": "stdout",
     "output_type": "stream",
     "text": [
      "Example phrase: Never odd or even\n",
      "Phrase: Never odd or even, is a palindrome\n"
     ]
    }
   ],
   "source": [
    "# Example:\n",
    "a = 'Never odd or even'\n",
    "print('Example phrase: ' + a)\n",
    "palindrome_phrase(a)"
   ]
  },
  {
   "cell_type": "code",
   "execution_count": null,
   "metadata": {},
   "outputs": [],
   "source": []
  }
 ],
 "metadata": {
  "kernelspec": {
   "display_name": "Python 3",
   "language": "python",
   "name": "python3"
  },
  "language_info": {
   "codemirror_mode": {
    "name": "ipython",
    "version": 3
   },
   "file_extension": ".py",
   "mimetype": "text/x-python",
   "name": "python",
   "nbconvert_exporter": "python",
   "pygments_lexer": "ipython3",
   "version": "3.7.4"
  }
 },
 "nbformat": 4,
 "nbformat_minor": 4
}
