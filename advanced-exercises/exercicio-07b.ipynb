{
 "cells": [
  {
   "cell_type": "code",
   "execution_count": 1,
   "metadata": {},
   "outputs": [],
   "source": [
    "import os\n",
    "import shutil\n",
    "import datetime as dt"
   ]
  },
  {
   "cell_type": "code",
   "execution_count": 2,
   "metadata": {},
   "outputs": [],
   "source": [
    "os.chdir(os.path.join(os.getcwd(), 'dados'))"
   ]
  },
  {
   "cell_type": "code",
   "execution_count": 3,
   "metadata": {},
   "outputs": [
    {
     "data": {
      "text/plain": [
       "'C:\\\\Users\\\\Victor\\\\OneDrive - inpe.br\\\\base_dados\\\\inpe\\\\ser347_prog\\\\aulas\\\\Lista-05\\\\dados'"
      ]
     },
     "execution_count": 3,
     "metadata": {},
     "output_type": "execute_result"
    }
   ],
   "source": [
    "os.getcwd()"
   ]
  },
  {
   "cell_type": "code",
   "execution_count": 4,
   "metadata": {},
   "outputs": [],
   "source": [
    "lista = os.listdir(os.getcwd())"
   ]
  },
  {
   "cell_type": "code",
   "execution_count": 5,
   "metadata": {},
   "outputs": [
    {
     "data": {
      "text/plain": [
       "['dados_aula_15.zip',\n",
       " 'foc_sev_20161010.bin',\n",
       " 'foc_sev_20161011.bin',\n",
       " 'foc_sev_20161012.bin',\n",
       " 'foc_sev_20161013.bin',\n",
       " 'foc_sev_20161014.bin',\n",
       " 'foc_sev_20161015.bin',\n",
       " 'modelo.hdr']"
      ]
     },
     "execution_count": 5,
     "metadata": {},
     "output_type": "execute_result"
    }
   ],
   "source": [
    "lista"
   ]
  },
  {
   "cell_type": "markdown",
   "metadata": {},
   "source": [
    "# Exercício 1"
   ]
  },
  {
   "cell_type": "code",
   "execution_count": 6,
   "metadata": {},
   "outputs": [
    {
     "name": "stdout",
     "output_type": "stream",
     "text": [
      "Lista de arquivos .bin:\n",
      "\n",
      "foc_sev_20161010.bin\n",
      "foc_sev_20161011.bin\n",
      "foc_sev_20161012.bin\n",
      "foc_sev_20161013.bin\n",
      "foc_sev_20161014.bin\n",
      "foc_sev_20161015.bin\n"
     ]
    }
   ],
   "source": [
    "print('Lista de arquivos .bin:''\\n')\n",
    "for x in lista:\n",
    "    if x[-3:] == 'bin':\n",
    "        print(x)\n"
   ]
  },
  {
   "cell_type": "markdown",
   "metadata": {},
   "source": [
    "# Exercício 2"
   ]
  },
  {
   "cell_type": "code",
   "execution_count": 7,
   "metadata": {},
   "outputs": [
    {
     "name": "stdout",
     "output_type": "stream",
     "text": [
      "Lista de arquivos .bin ; .hdr:\n",
      "\n",
      "foc_sev_20161010.bin ; foc_sev_20161010.hdr\n",
      "foc_sev_20161011.bin ; foc_sev_20161011.hdr\n",
      "foc_sev_20161012.bin ; foc_sev_20161012.hdr\n",
      "foc_sev_20161013.bin ; foc_sev_20161013.hdr\n",
      "foc_sev_20161014.bin ; foc_sev_20161014.hdr\n",
      "foc_sev_20161015.bin ; foc_sev_20161015.hdr\n"
     ]
    }
   ],
   "source": [
    "print('Lista de arquivos .bin ; .hdr:''\\n')\n",
    "for x in lista:\n",
    "    if x[-3:] == 'bin':\n",
    "        y = shutil.copyfile(x, x[:17] + 'hdr', )\n",
    "        print(x, ';', y)"
   ]
  },
  {
   "cell_type": "markdown",
   "metadata": {},
   "source": [
    "# Exercício 3"
   ]
  },
  {
   "cell_type": "code",
   "execution_count": 8,
   "metadata": {},
   "outputs": [
    {
     "name": "stdout",
     "output_type": "stream",
     "text": [
      "Lista de arquivos .bin e seus dias julianos:\n",
      "\n",
      "O arquivo foc_sev_20161010.bin é do dia juliano 284 do ano 2016\n",
      "O arquivo foc_sev_20161011.bin é do dia juliano 285 do ano 2016\n",
      "O arquivo foc_sev_20161012.bin é do dia juliano 286 do ano 2016\n",
      "O arquivo foc_sev_20161013.bin é do dia juliano 287 do ano 2016\n",
      "O arquivo foc_sev_20161014.bin é do dia juliano 288 do ano 2016\n",
      "O arquivo foc_sev_20161015.bin é do dia juliano 289 do ano 2016\n"
     ]
    }
   ],
   "source": [
    "print('Lista de arquivos .bin e seus dias julianos:''\\n')\n",
    "for x in lista:\n",
    "    if x[-3:] == 'bin':        \n",
    "        y_tt = dt.date(int(x[8:12]), int(x[12:14]), int(x[14:16])).timetuple()\n",
    "        print('O arquivo', x, 'é do dia juliano', y_tt.tm_yday, 'do ano', y_tt.tm_year)"
   ]
  },
  {
   "cell_type": "code",
   "execution_count": null,
   "metadata": {},
   "outputs": [],
   "source": []
  }
 ],
 "metadata": {
  "kernelspec": {
   "display_name": "Python 3",
   "language": "python",
   "name": "python3"
  },
  "language_info": {
   "codemirror_mode": {
    "name": "ipython",
    "version": 3
   },
   "file_extension": ".py",
   "mimetype": "text/x-python",
   "name": "python",
   "nbconvert_exporter": "python",
   "pygments_lexer": "ipython3",
   "version": "3.7.4"
  }
 },
 "nbformat": 4,
 "nbformat_minor": 2
}
