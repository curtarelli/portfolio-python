{
 "cells": [
  {
   "cell_type": "markdown",
   "metadata": {},
   "source": [
    "# Lista de exercícios 5 - Exercicio 7a\n",
    "\n",
    "Para rodar a lista de exercícios 5 deve-se iniciar pela linha abaixo e rodar todas em sequência, pois alguns programas estão em cadeia pois dependem de variáveis definidas em exercícios anteriores, isso foi feito para se evitar calculos em excesso."
   ]
  },
  {
   "cell_type": "code",
   "execution_count": 1,
   "metadata": {},
   "outputs": [],
   "source": [
    "import datetime as dt\n",
    "import os\n",
    "import numpy as np"
   ]
  },
  {
   "cell_type": "markdown",
   "metadata": {},
   "source": [
    "## Exercício 1"
   ]
  },
  {
   "cell_type": "code",
   "execution_count": 2,
   "metadata": {},
   "outputs": [
    {
     "name": "stdout",
     "output_type": "stream",
     "text": [
      "Arquivo: foc_sev_20161010.hdr \n",
      "Nome do arquivo: foc_sev_20161010 \n",
      "Extensão: .hdr\n"
     ]
    }
   ],
   "source": [
    "arq_bin = 'dados_exemplo/foc_sev_20161010.bin'[14:]\n",
    "arq_hdr = arq_bin.replace('bin', 'hdr')\n",
    "nome_arq = arq_bin[0:-4]\n",
    "ext_hdr = arq_hdr[-4:]\n",
    "\n",
    "\n",
    "print('Arquivo:',arq_hdr,\n",
    "      '\\n''Nome do arquivo:',nome_arq,\n",
    "      '\\n''Extensão:', ext_hdr)"
   ]
  },
  {
   "cell_type": "markdown",
   "metadata": {},
   "source": [
    "## Exercício 2"
   ]
  },
  {
   "cell_type": "code",
   "execution_count": 3,
   "metadata": {},
   "outputs": [
    {
     "name": "stdout",
     "output_type": "stream",
     "text": [
      "------ Arquivo ---------- Data ---\n",
      "foc_sev_20161001.bin - 2016-10-01\n",
      "foc_sev_20161002.bin - 2016-10-02\n",
      "foc_sev_20161003.bin - 2016-10-03\n",
      "foc_sev_20161004.bin - 2016-10-04\n",
      "foc_sev_20161005.bin - 2016-10-05\n",
      "foc_sev_20161006.bin - 2016-10-06\n",
      "foc_sev_20161007.bin - 2016-10-07\n",
      "foc_sev_20161008.bin - 2016-10-08\n",
      "foc_sev_20161009.bin - 2016-10-09\n",
      "foc_sev_20161010.bin - 2016-10-10\n",
      "foc_sev_20161011.bin - 2016-10-11\n",
      "foc_sev_20161012.bin - 2016-10-12\n",
      "foc_sev_20161013.bin - 2016-10-13\n",
      "foc_sev_20161014.bin - 2016-10-14\n",
      "foc_sev_20161015.bin - 2016-10-15\n",
      "foc_sev_20161016.bin - 2016-10-16\n",
      "foc_sev_20161017.bin - 2016-10-17\n",
      "foc_sev_20161018.bin - 2016-10-18\n",
      "foc_sev_20161019.bin - 2016-10-19\n",
      "foc_sev_20161020.bin - 2016-10-20\n",
      "foc_sev_20161021.bin - 2016-10-21\n",
      "foc_sev_20161022.bin - 2016-10-22\n",
      "foc_sev_20161023.bin - 2016-10-23\n",
      "foc_sev_20161024.bin - 2016-10-24\n",
      "foc_sev_20161025.bin - 2016-10-25\n",
      "foc_sev_20161026.bin - 2016-10-26\n",
      "foc_sev_20161027.bin - 2016-10-27\n",
      "foc_sev_20161028.bin - 2016-10-28\n",
      "foc_sev_20161029.bin - 2016-10-29\n",
      "foc_sev_20161030.bin - 2016-10-30\n"
     ]
    }
   ],
   "source": [
    "pasta_arq = os.path.abspath('foc_sev_20161011.bin')\n",
    "base_arq = pasta_arq.split('\\\\')[-1]\n",
    "contador = np.zeros(31)\n",
    "\n",
    "i = 1\n",
    "s = '0' + str(i)\n",
    "a = 0\n",
    "d = 1\n",
    "data_i = dt.date(2016, 10, i)\n",
    "arq_data = list()\n",
    "lista_arq = list()\n",
    "\n",
    "print('------ Arquivo ---------- Data ---')\n",
    "\n",
    "for x in contador:\n",
    "    arq_dia = base_arq.replace('11', s)\n",
    "    arq_data.append(arq_dia)\n",
    "    arq_data.append(data_i)\n",
    "    lista_arq.append(arq_dia)\n",
    "    i+= 1\n",
    "\n",
    "    if i > 31:\n",
    "        break\n",
    "\n",
    "    data_i = dt.date(2016, 10, i)\n",
    "\n",
    "    if i < 10:\n",
    "        s = '0' + str(i)\n",
    "    elif i > 9:\n",
    "        s = str(i)\n",
    "\n",
    "    print(arq_data[a],'-', arq_data[d])\n",
    "\n",
    "    a += 2\n",
    "    d += 2"
   ]
  },
  {
   "cell_type": "markdown",
   "metadata": {},
   "source": [
    "## Exercício 3"
   ]
  },
  {
   "cell_type": "code",
   "execution_count": 4,
   "metadata": {},
   "outputs": [
    {
     "name": "stdout",
     "output_type": "stream",
     "text": [
      "Data: 2018-05-26 \n",
      "Dia juliano: 146\n"
     ]
    }
   ],
   "source": [
    "data_atual = dt.date.today()\n",
    "data_atual_tt = data_atual.timetuple()\n",
    "dj_atual = data_atual_tt.tm_yday\n",
    "\n",
    "print('Data:', data_atual,'\\n''Dia juliano:', dj_atual)"
   ]
  },
  {
   "cell_type": "markdown",
   "metadata": {},
   "source": [
    "## Ecercício 4"
   ]
  },
  {
   "cell_type": "code",
   "execution_count": 5,
   "metadata": {},
   "outputs": [
    {
     "name": "stdout",
     "output_type": "stream",
     "text": [
      "Início de ano anterior à data atual: 2017-01-01\n"
     ]
    }
   ],
   "source": [
    "passado_i = dt.date((data_atual_tt.tm_year - 1), 1, 1)\n",
    "\n",
    "print('Início de ano anterior à data atual:', passado_i)"
   ]
  },
  {
   "cell_type": "markdown",
   "metadata": {},
   "source": [
    "## Exercício 5"
   ]
  },
  {
   "cell_type": "code",
   "execution_count": 6,
   "metadata": {},
   "outputs": [
    {
     "name": "stdout",
     "output_type": "stream",
     "text": [
      "Fim de ano anterior à data atual: 2017-12-31\n"
     ]
    }
   ],
   "source": [
    "passado_f = dt.date((data_atual_tt.tm_year - 1), 12, 31)\n",
    "\n",
    "print('Fim de ano anterior à data atual:', passado_f)"
   ]
  },
  {
   "cell_type": "markdown",
   "metadata": {},
   "source": [
    "## Exercício 6"
   ]
  },
  {
   "cell_type": "code",
   "execution_count": 7,
   "metadata": {},
   "outputs": [
    {
     "name": "stdout",
     "output_type": "stream",
     "text": [
      "26/05/2018\n"
     ]
    }
   ],
   "source": [
    "frmt_br = '%d/%m/%Y'\n",
    "atual_br = dt.date.today().__format__(frmt_br)\n",
    "\n",
    "print(atual_br)"
   ]
  },
  {
   "cell_type": "markdown",
   "metadata": {},
   "source": [
    "## Exercício 7"
   ]
  },
  {
   "cell_type": "code",
   "execution_count": 8,
   "metadata": {},
   "outputs": [
    {
     "name": "stdout",
     "output_type": "stream",
     "text": [
      "Ano_dia-juliano: 2018_146\n"
     ]
    }
   ],
   "source": [
    "frmt_a_dj = '%Y_%j'\n",
    "atual_juliano = dt.date.today().__format__(frmt_a_dj)\n",
    "\n",
    "print('Ano_dia-juliano:', atual_juliano)"
   ]
  },
  {
   "cell_type": "markdown",
   "metadata": {},
   "source": [
    "## Exercício 8"
   ]
  },
  {
   "cell_type": "code",
   "execution_count": 9,
   "metadata": {},
   "outputs": [
    {
     "name": "stdout",
     "output_type": "stream",
     "text": [
      "2017-10-24 07:34:18\n"
     ]
    }
   ],
   "source": [
    "str_data_hora = '20171024 07:34:18'\n",
    "frmt_data_hora = '%Y%m%d %H:%M:%S'\n",
    "dta = dt.datetime.strptime(str_data_hora,frmt_data_hora)\n",
    "print(dta)"
   ]
  },
  {
   "cell_type": "markdown",
   "metadata": {},
   "source": [
    "## Exercício 9"
   ]
  },
  {
   "cell_type": "code",
   "execution_count": 10,
   "metadata": {},
   "outputs": [
    {
     "name": "stdout",
     "output_type": "stream",
     "text": [
      "18/04/2016\n"
     ]
    }
   ],
   "source": [
    "\"2016109\"\n",
    "dj109 = str(109)\n",
    "y16 = str(2016)\n",
    "str_ano_dj = y16 + dj109\n",
    "frmt_adj = '%Y%j'\n",
    "adj109 = dt.datetime.strptime(str_ano_dj, frmt_adj).strftime(frmt_br)\n",
    "\n",
    "print(adj109)"
   ]
  },
  {
   "cell_type": "markdown",
   "metadata": {},
   "source": [
    "## Exercício 10"
   ]
  },
  {
   "cell_type": "code",
   "execution_count": 11,
   "metadata": {},
   "outputs": [
    {
     "name": "stdout",
     "output_type": "stream",
     "text": [
      "Dias consecutivos desde o início do ano passado: 511\n"
     ]
    }
   ],
   "source": [
    "passado_f_tt = passado_f.timetuple()\n",
    "dias_consecutivos = passado_f_tt.tm_yday + dj_atual\n",
    "\n",
    "print('Dias consecutivos desde o início do ano passado:', dias_consecutivos)"
   ]
  },
  {
   "cell_type": "markdown",
   "metadata": {},
   "source": [
    "## Exercício 11"
   ]
  },
  {
   "cell_type": "code",
   "execution_count": 12,
   "metadata": {},
   "outputs": [
    {
     "name": "stdout",
     "output_type": "stream",
     "text": [
      "Data de 1 ano atrás: 26/05/2017\n"
     ]
    }
   ],
   "source": [
    "data_ano_passado = dt.date((data_atual_tt.tm_year - 1), data_atual_tt.tm_mon, data_atual_tt.tm_mday)\n",
    "data_ano_passado = data_ano_passado.strftime(frmt_br)\n",
    "\n",
    "print('Data de 1 ano atrás:', data_ano_passado)"
   ]
  },
  {
   "cell_type": "markdown",
   "metadata": {},
   "source": [
    "## Exercício Desafio"
   ]
  },
  {
   "cell_type": "code",
   "execution_count": 13,
   "metadata": {},
   "outputs": [
    {
     "name": "stdout",
     "output_type": "stream",
     "text": [
      "Último dia de fevereiro/2016: 29/02/2016\n"
     ]
    }
   ],
   "source": [
    "data_20161231_tt = dt.date(2016, 12, 31).timetuple()\n",
    "dj_f16 = data_20161231_tt.tm_yday\n",
    "\n",
    "if dj_f16 == 365:\n",
    "    fev_f = dt.date(2016, 2, 28)\n",
    "\n",
    "elif dj_f16 == 366:\n",
    "    fev_f = dt.date(2016, 2, 29)\n",
    "\n",
    "fev_f = fev_f.strftime(frmt_br)\n",
    "\n",
    "print('Último dia de fevereiro/2016:', fev_f)"
   ]
  }
 ],
 "metadata": {
  "kernelspec": {
   "display_name": "Python 3",
   "language": "python",
   "name": "python3"
  },
  "language_info": {
   "codemirror_mode": {
    "name": "ipython",
    "version": 3
   },
   "file_extension": ".py",
   "mimetype": "text/x-python",
   "name": "python",
   "nbconvert_exporter": "python",
   "pygments_lexer": "ipython3",
   "version": "3.7.4"
  }
 },
 "nbformat": 4,
 "nbformat_minor": 2
}
