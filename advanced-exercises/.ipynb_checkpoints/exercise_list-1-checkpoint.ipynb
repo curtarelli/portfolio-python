{
 "cells": [
  {
   "cell_type": "markdown",
   "metadata": {},
   "source": [
    "# Exercises list - 1:\n",
    "\n",
    "Run it cell-by-cell;\n",
    "\n",
    "Importing packages:"
   ]
  },
  {
   "cell_type": "code",
   "execution_count": 1,
   "metadata": {},
   "outputs": [],
   "source": [
    "import datetime as dt\n",
    "import os\n",
    "import numpy as np"
   ]
  },
  {
   "cell_type": "markdown",
   "metadata": {},
   "source": [
    "## 1)"
   ]
  },
  {
   "cell_type": "code",
   "execution_count": 2,
   "metadata": {},
   "outputs": [
    {
     "name": "stdout",
     "output_type": "stream",
     "text": [
      "Archive: 0161010.hdr \n",
      "Archive name: 0161010 \n",
      "Extension: .hdr\n"
     ]
    }
   ],
   "source": [
    "archive_bin = 'data/foc_sev_20161010.bin'[14:]\n",
    "archive_hdr = archive_bin.replace('bin', 'hdr')\n",
    "archive_name = archive_bin[0:-4]\n",
    "ext_hdr = archive_hdr[-4:]\n",
    "\n",
    "\n",
    "print('Archive:',archive_hdr,\n",
    "      '\\n''Archive name:', archive_name,\n",
    "      '\\n''Extension:', ext_hdr)"
   ]
  },
  {
   "cell_type": "markdown",
   "metadata": {},
   "source": [
    "## 2)"
   ]
  },
  {
   "cell_type": "code",
   "execution_count": 4,
   "metadata": {},
   "outputs": [
    {
     "name": "stdout",
     "output_type": "stream",
     "text": [
      "------ Archive ---------- Date ---\n",
      "foc_sev_20161001.bin - 2016-10-01\n",
      "foc_sev_20161002.bin - 2016-10-02\n",
      "foc_sev_20161003.bin - 2016-10-03\n",
      "foc_sev_20161004.bin - 2016-10-04\n",
      "foc_sev_20161005.bin - 2016-10-05\n",
      "foc_sev_20161006.bin - 2016-10-06\n",
      "foc_sev_20161007.bin - 2016-10-07\n",
      "foc_sev_20161008.bin - 2016-10-08\n",
      "foc_sev_20161009.bin - 2016-10-09\n",
      "foc_sev_20161010.bin - 2016-10-10\n",
      "foc_sev_20161011.bin - 2016-10-11\n",
      "foc_sev_20161012.bin - 2016-10-12\n",
      "foc_sev_20161013.bin - 2016-10-13\n",
      "foc_sev_20161014.bin - 2016-10-14\n",
      "foc_sev_20161015.bin - 2016-10-15\n",
      "foc_sev_20161016.bin - 2016-10-16\n",
      "foc_sev_20161017.bin - 2016-10-17\n",
      "foc_sev_20161018.bin - 2016-10-18\n",
      "foc_sev_20161019.bin - 2016-10-19\n",
      "foc_sev_20161020.bin - 2016-10-20\n",
      "foc_sev_20161021.bin - 2016-10-21\n",
      "foc_sev_20161022.bin - 2016-10-22\n",
      "foc_sev_20161023.bin - 2016-10-23\n",
      "foc_sev_20161024.bin - 2016-10-24\n",
      "foc_sev_20161025.bin - 2016-10-25\n",
      "foc_sev_20161026.bin - 2016-10-26\n",
      "foc_sev_20161027.bin - 2016-10-27\n",
      "foc_sev_20161028.bin - 2016-10-28\n",
      "foc_sev_20161029.bin - 2016-10-29\n",
      "foc_sev_20161030.bin - 2016-10-30\n"
     ]
    }
   ],
   "source": [
    "archive_folder = os.path.abspath('foc_sev_20161011.bin')\n",
    "base_archive = archive_folder.split('\\\\')[-1]\n",
    "counter = np.zeros(31)\n",
    "\n",
    "i = 1\n",
    "s = '0' + str(i)\n",
    "a = 0\n",
    "d = 1\n",
    "date_i = dt.date(2016, 10, i)\n",
    "archive_date = list()\n",
    "archive_list = list()\n",
    "\n",
    "print('------ Archive ---------- Date ---')\n",
    "\n",
    "for x in counter:\n",
    "    archive_day = base_archive.replace('11', s)\n",
    "    archive_date.append(archive_day)\n",
    "    archive_date.append(date_i)\n",
    "    archive_list.append(archive_day)\n",
    "    i+= 1\n",
    "\n",
    "    if i > 31:\n",
    "        break\n",
    "\n",
    "    date_i = dt.date(2016, 10, i)\n",
    "\n",
    "    if i < 10:\n",
    "        s = '0' + str(i)\n",
    "    elif i > 9:\n",
    "        s = str(i)\n",
    "\n",
    "    print(archive_date[a],'-', archive_date[d])\n",
    "\n",
    "    a += 2\n",
    "    d += 2"
   ]
  },
  {
   "cell_type": "markdown",
   "metadata": {},
   "source": [
    "## 3)"
   ]
  },
  {
   "cell_type": "code",
   "execution_count": 5,
   "metadata": {},
   "outputs": [
    {
     "name": "stdout",
     "output_type": "stream",
     "text": [
      "Date:  2020-07-08 \n",
      "Year day:  190\n"
     ]
    }
   ],
   "source": [
    "actual_date = dt.date.today()\n",
    "actual_date_tt = actual_date.timetuple()\n",
    "yd = actual_date_tt.tm_yday\n",
    "\n",
    "print('Date: ', actual_date,'\\n''Year day: ', yd)"
   ]
  },
  {
   "cell_type": "markdown",
   "metadata": {},
   "source": [
    "## 4)"
   ]
  },
  {
   "cell_type": "code",
   "execution_count": 6,
   "metadata": {},
   "outputs": [
    {
     "name": "stdout",
     "output_type": "stream",
     "text": [
      "Last year first day:  2019-01-01\n"
     ]
    }
   ],
   "source": [
    "past_i = dt.date((actual_date_tt.tm_year - 1), 1, 1)\n",
    "\n",
    "print('Last year first day: ', past_i)"
   ]
  },
  {
   "cell_type": "markdown",
   "metadata": {},
   "source": [
    "## 5)"
   ]
  },
  {
   "cell_type": "code",
   "execution_count": 7,
   "metadata": {},
   "outputs": [
    {
     "name": "stdout",
     "output_type": "stream",
     "text": [
      "Last year last day:  2019-12-31\n"
     ]
    }
   ],
   "source": [
    "past_f = dt.date((actual_date_tt.tm_year - 1), 12, 31)\n",
    "\n",
    "print('Last year last day: ', past_f)"
   ]
  },
  {
   "cell_type": "markdown",
   "metadata": {},
   "source": [
    "## 6)"
   ]
  },
  {
   "cell_type": "code",
   "execution_count": 8,
   "metadata": {},
   "outputs": [
    {
     "name": "stdout",
     "output_type": "stream",
     "text": [
      "08/07/2020\n"
     ]
    }
   ],
   "source": [
    "frmt_br = '%d/%m/%Y'\n",
    "actual_br = dt.date.today().__format__(frmt_br)\n",
    "\n",
    "print(actual_br)"
   ]
  },
  {
   "cell_type": "markdown",
   "metadata": {},
   "source": [
    "## 7)"
   ]
  },
  {
   "cell_type": "code",
   "execution_count": 10,
   "metadata": {},
   "outputs": [
    {
     "name": "stdout",
     "output_type": "stream",
     "text": [
      "Year_year-day:  2020_190\n"
     ]
    }
   ],
   "source": [
    "frmt_a_yd = '%Y_%j'\n",
    "actual_yd = dt.date.today().__format__(frmt_a_yd)\n",
    "\n",
    "print('Year_year-day: ', actual_yd)"
   ]
  },
  {
   "cell_type": "markdown",
   "metadata": {},
   "source": [
    "## 8)"
   ]
  },
  {
   "cell_type": "code",
   "execution_count": 11,
   "metadata": {},
   "outputs": [
    {
     "name": "stdout",
     "output_type": "stream",
     "text": [
      "2017-10-24 07:34:18\n"
     ]
    }
   ],
   "source": [
    "str_date_hour = '20171024 07:34:18'\n",
    "frmt_date_hour = '%Y%m%d %H:%M:%S'\n",
    "dta = dt.datetime.strptime(str_date_hour, frmt_date_hour)\n",
    "print(dta)"
   ]
  },
  {
   "cell_type": "markdown",
   "metadata": {},
   "source": [
    "## 9)"
   ]
  },
  {
   "cell_type": "code",
   "execution_count": 12,
   "metadata": {},
   "outputs": [
    {
     "name": "stdout",
     "output_type": "stream",
     "text": [
      "18/04/2016\n"
     ]
    }
   ],
   "source": [
    "\"2016109\"\n",
    "yd109 = str(109)\n",
    "y16 = str(2016)\n",
    "str_year_yd = y16 + yd109\n",
    "frmt_year_yd = '%Y%j'\n",
    "yyd109 = dt.datetime.strptime(str_year_yd, frmt_year_yd).strftime(frmt_br)\n",
    "\n",
    "print(yyd109)"
   ]
  },
  {
   "cell_type": "markdown",
   "metadata": {},
   "source": [
    "## 10)"
   ]
  },
  {
   "cell_type": "code",
   "execution_count": 21,
   "metadata": {},
   "outputs": [
    {
     "name": "stdout",
     "output_type": "stream",
     "text": [
      "Consecutive days since last year beggining:  555\n"
     ]
    }
   ],
   "source": [
    "past_f_tt = past_f.timetuple()\n",
    "consecutive_days = past_f_tt.tm_yday + int(yd)\n",
    "\n",
    "print('Consecutive days since last year beggining: ', consecutive_days)"
   ]
  },
  {
   "cell_type": "markdown",
   "metadata": {},
   "source": [
    "## 11)"
   ]
  },
  {
   "cell_type": "code",
   "execution_count": 22,
   "metadata": {},
   "outputs": [
    {
     "name": "stdout",
     "output_type": "stream",
     "text": [
      "1 Year later date:  08/07/2019\n"
     ]
    }
   ],
   "source": [
    "last_year_date = dt.date((actual_date_tt.tm_year - 1), actual_date_tt.tm_mon, actual_date_tt.tm_mday)\n",
    "last_year_date = last_year_date.strftime(frmt_br)\n",
    "\n",
    "print('1 Year later date: ', last_year_date)"
   ]
  },
  {
   "cell_type": "markdown",
   "metadata": {},
   "source": [
    "## Extra exercise:"
   ]
  },
  {
   "cell_type": "code",
   "execution_count": 23,
   "metadata": {},
   "outputs": [
    {
     "name": "stdout",
     "output_type": "stream",
     "text": [
      "Last day of February of 2016:  29/02/2016\n"
     ]
    }
   ],
   "source": [
    "date_20161231_tt = dt.date(2016, 12, 31).timetuple()\n",
    "yd_f16 = date_20161231_tt.tm_yday\n",
    "\n",
    "if yd_f16 == 365:\n",
    "    feb_f = dt.date(2016, 2, 28)\n",
    "\n",
    "elif yd_f16 == 366:\n",
    "    feb_f = dt.date(2016, 2, 29)\n",
    "\n",
    "feb_f = feb_f.strftime(frmt_br)\n",
    "\n",
    "print('Last day of February of 2016: ', feb_f)"
   ]
  }
 ],
 "metadata": {
  "kernelspec": {
   "display_name": "Python 3",
   "language": "python",
   "name": "python3"
  },
  "language_info": {
   "codemirror_mode": {
    "name": "ipython",
    "version": 3
   },
   "file_extension": ".py",
   "mimetype": "text/x-python",
   "name": "python",
   "nbconvert_exporter": "python",
   "pygments_lexer": "ipython3",
   "version": "3.7.4"
  }
 },
 "nbformat": 4,
 "nbformat_minor": 2
}
