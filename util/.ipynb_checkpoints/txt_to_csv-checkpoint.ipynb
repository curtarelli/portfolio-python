{
 "cells": [
  {
   "cell_type": "markdown",
   "metadata": {},
   "source": [
    "Function to convert txt dataframe to csv"
   ]
  },
  {
   "cell_type": "code",
   "execution_count": null,
   "metadata": {},
   "outputs": [],
   "source": [
    "def txt_to_csv(txt, csv):\n",
    "    import pandas as pd\n",
    "\n",
    "    df = pd.read_csv(txt, delimiter = '\\t', na_values = 'NaN')\n",
    "    df.to_csv(csv, encoding = 'utf-8', index = False)\n",
    "\n",
    "txt = str(input('Qual o caminho para o arquivo .TXT de entrada?'))\n",
    "csv = str(input('Qual o caminho para o arquivo .CSV de saída?'))"
   ]
  },
  {
   "cell_type": "code",
   "execution_count": null,
   "metadata": {},
   "outputs": [],
   "source": [
    "txt_to_csv(txt, csv)"
   ]
  }
 ],
 "metadata": {
  "kernelspec": {
   "display_name": "Python 3",
   "language": "python",
   "name": "python3"
  },
  "language_info": {
   "codemirror_mode": {
    "name": "ipython",
    "version": 3
   },
   "file_extension": ".py",
   "mimetype": "text/x-python",
   "name": "python",
   "nbconvert_exporter": "python",
   "pygments_lexer": "ipython3",
   "version": "3.7.4"
  }
 },
 "nbformat": 4,
 "nbformat_minor": 4
}
