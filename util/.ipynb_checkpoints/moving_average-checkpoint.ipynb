{
 "cells": [
  {
   "cell_type": "code",
   "execution_count": 1,
   "metadata": {},
   "outputs": [],
   "source": [
    "# Pacotes padrão\n",
    "import os\n",
    "import pandas as pd\n",
    "import glob\n",
    "from matplotlib import pyplot as plt\n",
    "# Pacote para suavizar uma série de dados\n",
    "from scipy.signal import medfilt"
   ]
  },
  {
   "cell_type": "code",
   "execution_count": 2,
   "metadata": {},
   "outputs": [],
   "source": [
    "##  v2 - Pastas onde ficam os arquivos de entrada e saída, estas pastassempre devem ficar na pasta raiz do script;\n",
    "dir_i = os.path.join(os.getcwd(), 'input')\n",
    "dir_o = os.path.join(os.getcwd(), 'output')"
   ]
  },
  {
   "cell_type": "code",
   "execution_count": 3,
   "metadata": {},
   "outputs": [],
   "source": [
    "df_csv = pd.DataFrame()     ##  v2 - Cria um dataframe vazio para inserção dos dados suavizados ao longo da rotina em loop;\n",
    "i = 1                       ##  v2 - índice de chamada para adição de cada coluna no dataframe a ser salvado em .CSV;"
   ]
  },
  {
   "cell_type": "code",
   "execution_count": 4,
   "metadata": {},
   "outputs": [
    {
     "ename": "FileNotFoundError",
     "evalue": "[WinError 2] O sistema não pode encontrar o arquivo especificado: 'D:\\\\prog\\\\GitHub\\\\portfolio-python\\\\util\\\\input'",
     "output_type": "error",
     "traceback": [
      "\u001b[1;31m---------------------------------------------------------------------------\u001b[0m",
      "\u001b[1;31mFileNotFoundError\u001b[0m                         Traceback (most recent call last)",
      "\u001b[1;32m<ipython-input-4-bf54beccc590>\u001b[0m in \u001b[0;36m<module>\u001b[1;34m\u001b[0m\n\u001b[0;32m      1\u001b[0m \u001b[1;31m#listando os CSV dentro da pasta;\u001b[0m\u001b[1;33m\u001b[0m\u001b[1;33m\u001b[0m\u001b[1;33m\u001b[0m\u001b[0m\n\u001b[1;32m----> 2\u001b[1;33m \u001b[0mos\u001b[0m\u001b[1;33m.\u001b[0m\u001b[0mchdir\u001b[0m\u001b[1;33m(\u001b[0m\u001b[0mdir_i\u001b[0m\u001b[1;33m)\u001b[0m                         \u001b[1;31m##  Entrando na pasta de arquivos de entrada;\u001b[0m\u001b[1;33m\u001b[0m\u001b[1;33m\u001b[0m\u001b[0m\n\u001b[0m\u001b[0;32m      3\u001b[0m \u001b[0mnomes_arquivos\u001b[0m \u001b[1;33m=\u001b[0m \u001b[0mglob\u001b[0m\u001b[1;33m.\u001b[0m\u001b[0mglob\u001b[0m\u001b[1;33m(\u001b[0m\u001b[1;34m'*.csv'\u001b[0m\u001b[1;33m)\u001b[0m\u001b[1;33m\u001b[0m\u001b[1;33m\u001b[0m\u001b[0m\n",
      "\u001b[1;31mFileNotFoundError\u001b[0m: [WinError 2] O sistema não pode encontrar o arquivo especificado: 'D:\\\\prog\\\\GitHub\\\\portfolio-python\\\\util\\\\input'"
     ]
    }
   ],
   "source": [
    "#listando os CSV dentro da pasta;\n",
    "os.chdir(dir_i)                         ##  Entrando na pasta de arquivos de entrada;\n",
    "nomes_arquivos = glob.glob('*.csv')"
   ]
  },
  {
   "cell_type": "code",
   "execution_count": null,
   "metadata": {},
   "outputs": [],
   "source": [
    "### Loop para fazer cada arquivo que estiver na pasta;\n",
    "# nomes_arquivos = lista com nomes de cada arquivo\n",
    "# nome = um nome retirado da lista acima\n",
    "for nome in nomes_arquivos:\n",
    "    os.chdir(dir_i)                         ##  v2 - Entrando na pasta de arquivos de entrada;\n",
    "    \n",
    "    ### Lendo o arquivo .CSV;\n",
    "\n",
    "    # index_col = diz qual coluna deve ser colocada com indice (se não começa do 0)\n",
    "    # header = pegar primeira linha como cabeçalho\n",
    "    \n",
    "    dado_original = pd.read_csv(nome, header = None)\n",
    "    dado_original_plot = pd.read_csv(nome, index_col = 0, header = None)\n",
    "\n",
    "    # extraindo o dado de forma correta a aceitar na função;\n",
    "    wl_array = dado_original[0].values          ##  v2 - Cria uma coluna com comprimentos de onda;\n",
    "    dado_array = dado_original[1].values\n",
    "\n",
    "    # aplicando a função  *medfilt* e salvando em 'dados_reduzidos';\n",
    "    wl_reduzidas = medfilt(wl_array, 5)         ##  v2 - Cria uma coluna com comprimentos de onda reduzidos para escala;\n",
    "    dados_reduzidos = medfilt(dado_array, 5)\n",
    "\n",
    "    # transformando de volta em tabela;\n",
    "    dado_redu = pd.DataFrame()              ##  v2 - Cria dataframe vazio para inserir dados reduzidos;\n",
    "    dado_redu[0] = wl_reduzidas             ##  v2 - Insere no dataframe a coluna de comprimentos de onda;\n",
    "    dado_redu[1] = dados_reduzidos          ##  v2 - Insere no dataframe a coluna de dados;\n",
    "\n",
    "    dado_redu_serie = dado_redu.set_index(0)    ##  v2 - Reseta a coluna de comprimentos de onda como coluna índice;\n",
    "\n",
    "    df_csv[0] = dado_redu[0]        ##  v2 - Insere no dataframe final a coluna de comprimentos de onda reduzidos;\n",
    "    df_csv[i] = dado_redu[1]        ##  v2 - Adiciona no dataframe final a coluna de dados da rodada na sua devida coluna;\n",
    "    i += 1                          ##  v2 - Sobe um nível no índice para a coluna da próxima rodada;\n",
    "\n",
    "    ##### criando o gráfico do resultado;\n",
    "    # abrindo uma Figura vazia;\n",
    "    plt.figure()\n",
    "    # dizendo para o plot o local do primeiro grafico;\n",
    "    plt.subplot(2, 1, 1)\n",
    "    # plotando o grafico 1;\n",
    "    plt.plot(dado_original_plot, c = 'k', label = 'original')\n",
    "    # dizendo para o plot o local do segundo grafico;\n",
    "    plt.subplot(2, 1, 2)\n",
    "    #plotando o grafico 2 ;\n",
    "    plt.plot(dado_redu_serie, c = 'b', label = 'reduzido')\n",
    "    \n",
    "    # arrumando os eixos e a legenda;\n",
    "    plt.xlabel('Comprimento de Onda',size = 20)\n",
    "    plt.legend(fontsize = 12)\n",
    "\n",
    "    os.chdir(dir_o)  ##  v2 - Entrando na pasta de saída de arquivos;\n",
    "    #salvando a figura;\n",
    "    plt.savefig(nome + '.png')\n",
    "\n",
    "df_csv.to_csv('saida.csv', encoding='utf-8', header = None, index=False)     ##  Salva o dataframe final em arquivo .CSV;"
   ]
  },
  {
   "cell_type": "code",
   "execution_count": null,
   "metadata": {},
   "outputs": [],
   "source": []
  }
 ],
 "metadata": {
  "kernelspec": {
   "display_name": "Python 3",
   "language": "python",
   "name": "python3"
  },
  "language_info": {
   "codemirror_mode": {
    "name": "ipython",
    "version": 3
   },
   "file_extension": ".py",
   "mimetype": "text/x-python",
   "name": "python",
   "nbconvert_exporter": "python",
   "pygments_lexer": "ipython3",
   "version": "3.7.4"
  }
 },
 "nbformat": 4,
 "nbformat_minor": 4
}
