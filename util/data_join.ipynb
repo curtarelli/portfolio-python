{
 "cells": [
  {
   "cell_type": "markdown",
   "metadata": {},
   "source": [
    "Este script é um pacote de ferramentas para manipular dados em para organizar\n",
    "banco de dados de entrada dos modelos QAA/Kd."
   ]
  },
  {
   "cell_type": "code",
   "execution_count": 2,
   "metadata": {},
   "outputs": [],
   "source": [
    "##  Importanto pacotes básicos necessários para as funções.\n",
    "import os\n",
    "import glob\n",
    "import pandas as pd\n",
    "from pandas import ExcelWriter as Ew"
   ]
  },
  {
   "cell_type": "code",
   "execution_count": 3,
   "metadata": {},
   "outputs": [],
   "source": [
    "def data_join(dir_i, nome_o):\n",
    "    '''\n",
    "    Função para juntar diversas planilhas com estações separadas em apenas uma\n",
    "    planilha contendo todos os dados compilados.\n",
    "    \n",
    "    ----------\n",
    "    Parameters\n",
    "    ----------\n",
    "    dir_i [String]\n",
    "        String contendo o diretório onde se encontram os dados.\n",
    "    nome_o [String]\n",
    "        Nome do arquivo de saida contendo todas as medidas em colunas distintas,\n",
    "        contendo extensão '.xslx'.\n",
    "\n",
    "    -------\n",
    "    Returns\n",
    "    -------\n",
    "    df_o [Data Frame]\n",
    "        Joined Data Frame saved as '.xlsx'.\n",
    "    '''\n",
    "    ##      \n",
    "    dir_o = os.getcwd()\n",
    "    \n",
    "    os.chdir(dir_i)\n",
    "\n",
    "    list_i = glob.glob('*.xlsx')\n",
    "    \n",
    "    df_o = pd.read_excel(list_i[0],\n",
    "                          na_values = '',\n",
    "                          sheet_name = 'Sheet1',\n",
    "                          header = 0,\n",
    "                          index_col = 0,\n",
    "                          usecols = 0)\n",
    "    \n",
    "    for i in list_i:\n",
    "        nome_i = i.split('.')[0]\n",
    "        \n",
    "        df_i = pd.read_excel(i,\n",
    "                             na_values = '',\n",
    "                             sheet_name = 'Sheet1',\n",
    "                             header = 0,\n",
    "                             index_col = 0)\n",
    "        \n",
    "        df_o[nome_i] = df_i.iloc[:, 0]\n",
    "        \n",
    "    writer = Ew(nome_o)\n",
    "    df_o.to_excel(writer, 'Sheet1', index = True)\n",
    "    writer.save()\n",
    "    \n",
    "    os.chdir(dir_o)\n",
    "    \n",
    "    return df_o"
   ]
  },
  {
   "cell_type": "code",
   "execution_count": 4,
   "metadata": {},
   "outputs": [],
   "source": [
    "def csv_to_ex(dir_i):\n",
    "    '''\n",
    "    Função para salvar arquivo CSV no dormato XLSX (Excel)\n",
    "    \n",
    "    ----------\n",
    "    Parameters\n",
    "    ----------\n",
    "    dir_i [String]\n",
    "        String contendo o diretório onde se encontram os dados.\n",
    "\n",
    "    -------\n",
    "    Returns\n",
    "    -------\n",
    "    df [Data Frame]\n",
    "        Converted Data Frame saved as '.xlsx'.\n",
    "    '''\n",
    "    os.chdir(dir_i)\n",
    "    \n",
    "    list_i = glob.glob('*.csv')\n",
    "    \n",
    "    for i in list_i:\n",
    "        nome = i.split('.')[0]\n",
    "        \n",
    "        df = pd.read_csv(i)\n",
    "        \n",
    "        writer = Ew(nome)\n",
    "        df.to_excel(writer, 'Sheet1', index = True)\n",
    "        writer.save()    \n",
    "    \n",
    "    os.chdir(r'..\\..')\n",
    "    \n",
    "    return df"
   ]
  },
  {
   "cell_type": "code",
   "execution_count": null,
   "metadata": {},
   "outputs": [],
   "source": []
  }
 ],
 "metadata": {
  "kernelspec": {
   "display_name": "Python 3",
   "language": "python",
   "name": "python3"
  },
  "language_info": {
   "codemirror_mode": {
    "name": "ipython",
    "version": 3
   },
   "file_extension": ".py",
   "mimetype": "text/x-python",
   "name": "python",
   "nbconvert_exporter": "python",
   "pygments_lexer": "ipython3",
   "version": "3.7.4"
  }
 },
 "nbformat": 4,
 "nbformat_minor": 4
}
